{
 "cells": [
  {
   "cell_type": "code",
   "execution_count": 1,
   "metadata": {},
   "outputs": [
    {
     "name": "stderr",
     "output_type": "stream",
     "text": [
      "/home/death-reaper/anaconda3/lib/python3.6/site-packages/h5py/__init__.py:34: FutureWarning: Conversion of the second argument of issubdtype from `float` to `np.floating` is deprecated. In future, it will be treated as `np.float64 == np.dtype(float).type`.\n",
      "  from ._conv import register_converters as _register_converters\n"
     ]
    }
   ],
   "source": [
    "import tensorflow as tf\n",
    "import numpy as np\n",
    "import pandas as pd\n",
    "import matplotlib.pyplot as plt\n",
    "%matplotlib inline"
   ]
  },
  {
   "cell_type": "code",
   "execution_count": 2,
   "metadata": {
    "collapsed": true
   },
   "outputs": [],
   "source": [
    "from tensorflow.examples.tutorials.mnist import input_data"
   ]
  },
  {
   "cell_type": "code",
   "execution_count": 3,
   "metadata": {},
   "outputs": [
    {
     "name": "stdout",
     "output_type": "stream",
     "text": [
      "Successfully downloaded train-images-idx3-ubyte.gz 9912422 bytes.\n",
      "Extracting mnist_hand_written_data/train-images-idx3-ubyte.gz\n",
      "Successfully downloaded train-labels-idx1-ubyte.gz 28881 bytes.\n",
      "Extracting mnist_hand_written_data/train-labels-idx1-ubyte.gz\n",
      "Successfully downloaded t10k-images-idx3-ubyte.gz 1648877 bytes.\n",
      "Extracting mnist_hand_written_data/t10k-images-idx3-ubyte.gz\n",
      "Successfully downloaded t10k-labels-idx1-ubyte.gz 4542 bytes.\n",
      "Extracting mnist_hand_written_data/t10k-labels-idx1-ubyte.gz\n"
     ]
    }
   ],
   "source": [
    "mnist_data = input_data.read_data_sets(\"mnist_hand_written_data/\")"
   ]
  },
  {
   "cell_type": "code",
   "execution_count": 4,
   "metadata": {},
   "outputs": [
    {
     "data": {
      "text/plain": [
       "tensorflow.contrib.learn.python.learn.datasets.base.Datasets"
      ]
     },
     "execution_count": 4,
     "metadata": {},
     "output_type": "execute_result"
    }
   ],
   "source": [
    "type(mnist_data)"
   ]
  },
  {
   "cell_type": "code",
   "execution_count": 5,
   "metadata": {},
   "outputs": [
    {
     "data": {
      "text/plain": [
       "Datasets(train=<tensorflow.contrib.learn.python.learn.datasets.mnist.DataSet object at 0x7f6b66452f98>, validation=<tensorflow.contrib.learn.python.learn.datasets.mnist.DataSet object at 0x7f6b66452e48>, test=<tensorflow.contrib.learn.python.learn.datasets.mnist.DataSet object at 0x7f6b66452e80>)"
      ]
     },
     "execution_count": 5,
     "metadata": {},
     "output_type": "execute_result"
    }
   ],
   "source": [
    "mnist_data"
   ]
  },
  {
   "cell_type": "code",
   "execution_count": 6,
   "metadata": {
    "collapsed": true
   },
   "outputs": [],
   "source": [
    "def descriminator(X_img, is_var_scope_exist=False):\n",
    "    \n",
    "    if is_var_scope_exist:\n",
    "        tf.get_variable_scope.reuse_variables()\n",
    "    \n",
    "    ## First convolutional neural network\n",
    "    desc_weight0 = tf.get_variable(\"desc_weight0\", \n",
    "                                  [5, 5, 1, 32], \n",
    "                                  initializer=tf.truncated_normal_initializer(stddev=0.01))\n",
    "    desc_bias0 = tf.get_variable(\"desc_bias0\", \n",
    "                                [32], \n",
    "                                initializer = tf.constant_initializer(value=0))\n",
    "    \n",
    "    desc_conv_weight0 = tf.nn.conv2d(input=X_img, filter=desc_weight0, stides = [1, 1, 1, 1], padding=\"SAME\")\n",
    "    \n",
    "    desc_conv_weight0 = desc_conv_weight0 + desc_bias0\n",
    "    desc_activated0 = tf.nn.relu(desc_conv_weight0)\n",
    "    \n",
    "    desc_conv_net0 = tf.nn.avg_pool(desc_activated0, \n",
    "                                 ksize=[1, 2, 2, 1], \n",
    "                                 strides = [1, 2, 2, 1], \n",
    "                                 padding=\"SAME\")\n",
    "    \n",
    "    ## Second convolutional neural network\n",
    "    desc_weight1 = tf.get_variable(\"desc_weight1\", \n",
    "                                   [5, 5, 32, 64], \n",
    "                                   initializer = tf.truncated_normal_initializer(stddev = 0.01))\n",
    "    \n",
    "    desc_bias1 = tf.get_variable(\"desc_bias1\", \n",
    "                                 [64], \n",
    "                                 initializer=tf.constant_initializer(value=0))\n",
    "    \n",
    "    desc_conv_weight1 = tf.nn.conv2d(input=des_conv_net0, \n",
    "                                     filter = desc_weight1, \n",
    "                                     strides = [1, 1, 1, 1], \n",
    "                                     padding = \"SAME\")\n",
    "    desc_conv_weight1 = desc_conv_weight1 + desc_bias1\n",
    "    desc_activated1 = tf.nn.relu(desc_conv_weight1)\n",
    "    desc_conv_net1 = tf.nn.avg_pool(input=desc_activated1, \n",
    "                                     ksize=[1,2,2,1], \n",
    "                                     strides=[1,2,2,1], \n",
    "                                     padding=\"SAME\")\n",
    "    \n",
    "    \n",
    "    ## Third convolutional neural network\n",
    "    desc_weight2 = tf.get_variable(\"desc_weight2\", \n",
    "                                   [5, 5, 64, 128], \n",
    "                                   initializer = tf.truncated_normal_initializer(stddev = 0.01))\n",
    "    \n",
    "    desc_bias2 = tf.get_variable(\"desc_bias2\", \n",
    "                                 [128], \n",
    "                                 initializer=tf.constant_initializer(value=0))\n",
    "    \n",
    "    desc_conv_weight2 = tf.nn.conv2d(input=des_conv_net1, \n",
    "                                     filter = desc_weight2, \n",
    "                                     strides = [1, 1, 1, 1], \n",
    "                                     padding = \"SAME\")\n",
    "    desc_conv_weight2 = desc_conv_weight2 + desc_bias2\n",
    "    desc_activated2 = tf.nn.relu(desc_conv_weight2)\n",
    "    desc_conv_net2 = tf.nn.avg_pool(input=desc_activated2, \n",
    "                                     ksize=[1,2,2,1], \n",
    "                                     strides=[1,2,2,1], \n",
    "                                     padding=\"SAME\")\n",
    "    \n",
    "    ## First fully connected layer\n",
    "    desc_weight3 = tf.get_variable(\"desc_weight3\", \n",
    "                                   [3.5*3.5*128, 1024], \n",
    "                                   initializer=tf.truncated_normal_initializer(stddev=0.01))\n",
    "    desc_bias3 = tf.get_variable(\"desc_bias3\", \n",
    "                                 [1024], \n",
    "                                 initializer=tf.constant_initializer(value = 0))\n",
    "    desc_conv_net2_reshaped = tf.reshape(desc_conv_net2, [-1, 3.5*3.5*128])\n",
    "    \n",
    "    desc_fully_con1 = tf.matmul(desc_conv_net2_reshaped, desc_weight3)\n",
    "    desc_fully_con1 = desc_fully_con1 + desc_bias3\n",
    "    desc_fully_con1 = tf.nn.relu(desc_fully_con1)\n",
    "    \n",
    "    ## Second fully connected layer\n",
    "    desc_weight4 = tf.get_variable(\"desc_weight4\", \n",
    "                                   [1024, 128], \n",
    "                                   initializer=tf.truncated_normal_initializer(stddev=0.01))\n",
    "    desc_bias4 = tf.get_variable(\"desc_bias4\", \n",
    "                                 [128], \n",
    "                                 initializer=tf.constant_initializer(value = 0))\n",
    "    \n",
    "    desc_fully_con2 = tf.matmul(desc_fully_con1, desc_weight4)\n",
    "    desc_fully_con2 = desc_fully_con2 + desc_bias4\n",
    "    \n",
    "    \n",
    "    ## Third fully connected layer\n",
    "    desc_weight5 = tf.get_variable(\"desc_weight5\", \n",
    "                                   [128, 1], \n",
    "                                   initializer=tf.truncated_normal_initializer(stddev=0.01))\n",
    "    desc_bias5 = tf.get_variable(\"desc_bias5\", \n",
    "                                 [1], \n",
    "                                 initializer=tf.constant_initializer(value = 0))\n",
    "    \n",
    "    desc_fully_con3 = tf.matmul(desc_fully_con2, desc_weight5)\n",
    "    desc_fully_con3 = desc_fully_con3 + desc_bias5\n",
    "    \n",
    "    return desc_fully_con3\n"
   ]
  },
  {
   "cell_type": "code",
   "execution_count": null,
   "metadata": {
    "collapsed": true
   },
   "outputs": [],
   "source": [
    "def generator(batch_size, noise_dim):\n",
    "    noise = tf.truncated_normal([batch_size, noise_dim], name = \"noise\")\n",
    "    \n",
    "    ## deconvolutional neural network 0\n",
    "    gen_weight0 = tf.get_variable(\"gen_weight0\", \n",
    "                                  [noise_dim, 3136], \n",
    "                                  initializer=tf.truncated_normal_initializer(stddev = 0.01))\n",
    "    \n",
    "    gen_bias0 = tf.get_variable(\"gen_bias0\", \n",
    "                                [3136], \n",
    "                                initializer = tf.truncated_normal_initializer(stddev = 0.01))\n",
    "    gen_network0 = tf.matmul(noise, gen_weight0) + gen_bias0\n",
    "    gen_network0 = tf.reshape(gen_network0, [-1, 56, 56, 1])\n",
    "    gen_network0 = tf.layers.batch_normalization(gen_network0, epsilon=1e-5, scope = \"bn1\")\n",
    "    gen_network0 = tf.nn.relu(gen_network0)\n",
    "    \n",
    "    ## deconvolutional neural network 1\n",
    "    gen_weight1 = tf.get_variable(\"gen_weight1\", \n",
    "                                  [noise_dim, 3136], \n",
    "                                  initializer=tf.truncated_normal_initializer(stddev = 0.01))\n",
    "    \n",
    "    gen_bias0 = tf.get_variable(\"gen_bias0\", \n",
    "                                [3136], \n",
    "                                initializer = tf.truncated_normal_initializer(stddev = 0.01))"
   ]
  },
  {
   "cell_type": "code",
   "execution_count": null,
   "metadata": {
    "collapsed": true
   },
   "outputs": [],
   "source": []
  }
 ],
 "metadata": {
  "kernelspec": {
   "display_name": "Python 3",
   "language": "python",
   "name": "python3"
  },
  "language_info": {
   "codemirror_mode": {
    "name": "ipython",
    "version": 3
   },
   "file_extension": ".py",
   "mimetype": "text/x-python",
   "name": "python",
   "nbconvert_exporter": "python",
   "pygments_lexer": "ipython3",
   "version": "3.6.3"
  }
 },
 "nbformat": 4,
 "nbformat_minor": 2
}
