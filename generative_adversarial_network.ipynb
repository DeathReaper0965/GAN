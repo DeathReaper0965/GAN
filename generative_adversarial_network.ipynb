{
 "cells": [
  {
   "cell_type": "code",
   "execution_count": 1,
   "metadata": {},
   "outputs": [
    {
     "name": "stderr",
     "output_type": "stream",
     "text": [
      "/home/death-reaper/anaconda3/lib/python3.6/site-packages/h5py/__init__.py:34: FutureWarning: Conversion of the second argument of issubdtype from `float` to `np.floating` is deprecated. In future, it will be treated as `np.float64 == np.dtype(float).type`.\n",
      "  from ._conv import register_converters as _register_converters\n"
     ]
    }
   ],
   "source": [
    "import tensorflow as tf\n",
    "import numpy as np\n",
    "import pandas as pd\n",
    "import matplotlib.pyplot as plt\n",
    "%matplotlib inline"
   ]
  },
  {
   "cell_type": "code",
   "execution_count": 2,
   "metadata": {
    "collapsed": true
   },
   "outputs": [],
   "source": [
    "from tensorflow.examples.tutorials.mnist import input_data"
   ]
  },
  {
   "cell_type": "code",
   "execution_count": 3,
   "metadata": {},
   "outputs": [
    {
     "name": "stdout",
     "output_type": "stream",
     "text": [
      "Extracting mnist_hand_written_data/train-images-idx3-ubyte.gz\n",
      "Extracting mnist_hand_written_data/train-labels-idx1-ubyte.gz\n",
      "Extracting mnist_hand_written_data/t10k-images-idx3-ubyte.gz\n",
      "Extracting mnist_hand_written_data/t10k-labels-idx1-ubyte.gz\n"
     ]
    }
   ],
   "source": [
    "mnist_data = input_data.read_data_sets(\"mnist_hand_written_data/\")"
   ]
  },
  {
   "cell_type": "code",
   "execution_count": 4,
   "metadata": {},
   "outputs": [
    {
     "data": {
      "text/plain": [
       "tensorflow.contrib.learn.python.learn.datasets.base.Datasets"
      ]
     },
     "execution_count": 4,
     "metadata": {},
     "output_type": "execute_result"
    }
   ],
   "source": [
    "type(mnist_data)"
   ]
  },
  {
   "cell_type": "code",
   "execution_count": 5,
   "metadata": {},
   "outputs": [
    {
     "data": {
      "text/plain": [
       "Datasets(train=<tensorflow.contrib.learn.python.learn.datasets.mnist.DataSet object at 0x7f3d067be208>, validation=<tensorflow.contrib.learn.python.learn.datasets.mnist.DataSet object at 0x7f3d067be1d0>, test=<tensorflow.contrib.learn.python.learn.datasets.mnist.DataSet object at 0x7f3d067be128>)"
      ]
     },
     "execution_count": 5,
     "metadata": {},
     "output_type": "execute_result"
    }
   ],
   "source": [
    "mnist_data"
   ]
  },
  {
   "cell_type": "code",
   "execution_count": 6,
   "metadata": {
    "collapsed": true
   },
   "outputs": [],
   "source": [
    "def discriminator(X_img, is_var_scope_exist=False):\n",
    "    \n",
    "    with tf.variable_scope(tf.get_variable_scope(), reuse=tf.AUTO_REUSE) as scope:\n",
    "    \n",
    "        ## First convolutional neural network\n",
    "        disc_weight0 = tf.get_variable(\"disc_weight0\", \n",
    "                                      [5, 5, 1, 32], \n",
    "                                      initializer=tf.truncated_normal_initializer(stddev=0.01))\n",
    "        disc_bias0 = tf.get_variable(\"disc_bias0\", \n",
    "                                    [32], \n",
    "                                    initializer = tf.constant_initializer(value=0))\n",
    "\n",
    "        disc_conv_weight0 = tf.nn.conv2d(input=X_img, \n",
    "                                         filter=disc_weight0, \n",
    "                                         strides = [1, 1, 1, 1], \n",
    "                                         padding=\"SAME\")\n",
    "\n",
    "        disc_conv_weight0 = disc_conv_weight0 + disc_bias0\n",
    "        disc_activated0 = tf.nn.relu(disc_conv_weight0)\n",
    "\n",
    "        disc_conv_net0 = tf.nn.avg_pool(disc_activated0, \n",
    "                                     ksize=[1, 2, 2, 1], \n",
    "                                     strides = [1, 2, 2, 1], \n",
    "                                     padding=\"SAME\")\n",
    "\n",
    "        ## Second convolutional neural network\n",
    "        disc_weight1 = tf.get_variable(\"disc_weight1\", \n",
    "                                       [5, 5, 32, 64], \n",
    "                                       initializer = tf.truncated_normal_initializer(stddev = 0.01))\n",
    "\n",
    "        disc_bias1 = tf.get_variable(\"disc_bias1\", \n",
    "                                     [64], \n",
    "                                     initializer=tf.constant_initializer(value=0))\n",
    "\n",
    "        disc_conv_weight1 = tf.nn.conv2d(input=disc_conv_net0, \n",
    "                                         filter = disc_weight1, \n",
    "                                         strides = [1, 1, 1, 1], \n",
    "                                         padding = \"SAME\")\n",
    "        disc_conv_weight1 = disc_conv_weight1 + disc_bias1\n",
    "        disc_activated1 = tf.nn.relu(disc_conv_weight1)\n",
    "        disc_conv_net1 = tf.nn.avg_pool(disc_activated1, \n",
    "                                         ksize=[1,2,2,1], \n",
    "                                         strides=[1,2,2,1], \n",
    "                                         padding=\"SAME\")\n",
    "\n",
    "        ## First fully connected layer\n",
    "        disc_weight3 = tf.get_variable(\"disc_weight3\", \n",
    "                                       [7*7*64, 1024], \n",
    "                                       initializer=tf.truncated_normal_initializer(stddev=0.01))\n",
    "        disc_bias3 = tf.get_variable(\"disc_bias3\", \n",
    "                                     [1024], \n",
    "                                     initializer=tf.constant_initializer(value = 0))\n",
    "        disc_conv_net1_reshaped = tf.reshape(disc_conv_net1, [-1, 7*7*64])\n",
    "\n",
    "        disc_fully_con1 = tf.matmul(disc_conv_net1_reshaped, disc_weight3)\n",
    "        disc_fully_con1 = disc_fully_con1 + disc_bias3\n",
    "        disc_fully_con1 = tf.nn.relu(disc_fully_con1)\n",
    "\n",
    "        ## Second fully connected layer\n",
    "        disc_weight4 = tf.get_variable(\"disc_weight4\", \n",
    "                                       [1024, 128], \n",
    "                                       initializer=tf.truncated_normal_initializer(stddev=0.01))\n",
    "        disc_bias4 = tf.get_variable(\"disc_bias4\", \n",
    "                                     [128], \n",
    "                                     initializer=tf.constant_initializer(value = 0))\n",
    "\n",
    "        disc_fully_con2 = tf.matmul(disc_fully_con1, disc_weight4)\n",
    "        disc_fully_con2 = disc_fully_con2 + disc_bias4\n",
    "        \n",
    "        ## Third fully connected layer\n",
    "        disc_weight5 = tf.get_variable(\"disc_weight5\", \n",
    "                                       [128, 1], \n",
    "                                       initializer=tf.truncated_normal_initializer(stddev=0.01))\n",
    "        disc_bias5 = tf.get_variable(\"disc_bias5\", \n",
    "                                     [1], \n",
    "                                     initializer=tf.constant_initializer(value = 0))\n",
    "\n",
    "        disc_fully_con3 = tf.matmul(disc_fully_con2, disc_weight5)\n",
    "        disc_fully_con3 = disc_fully_con3 + disc_bias5\n",
    "\n",
    "        return disc_fully_con3\n"
   ]
  },
  {
   "cell_type": "code",
   "execution_count": 7,
   "metadata": {
    "collapsed": true
   },
   "outputs": [],
   "source": [
    "def generator(batch_size, noise_dim):\n",
    "    \n",
    "    with tf.variable_scope(tf.get_variable_scope(), reuse=tf.AUTO_REUSE) as scope:\n",
    "        \n",
    "        noise = tf.truncated_normal([batch_size, noise_dim], name = \"noise\")\n",
    "\n",
    "        ## deconvolutional neural network 0\n",
    "        gen_weight0 = tf.get_variable(\"gen_weight0\", \n",
    "                                      [noise_dim, 3136], \n",
    "                                      initializer=tf.truncated_normal_initializer(stddev = 0.01), \n",
    "                                      dtype = tf.float32)\n",
    "\n",
    "        gen_bias0 = tf.get_variable(\"gen_bias0\", \n",
    "                                    [3136], \n",
    "                                    initializer = tf.truncated_normal_initializer(stddev = 0.01))\n",
    "        gen_network0 = tf.matmul(noise, gen_weight0) + gen_bias0\n",
    "        gen_network0 = tf.reshape(gen_network0, [-1, 56, 56, 1])\n",
    "        gen_network0 = tf.contrib.layers.batch_norm(gen_network0, epsilon=1e-5, scope = \"bn0\")\n",
    "        gen_network0 = tf.nn.relu(gen_network0)\n",
    "\n",
    "        ## deconvolutional neural network 1\n",
    "        gen_weight1 = tf.get_variable(\"gen_weight1\", \n",
    "                                      [3, 3, 1, noise_dim/2], \n",
    "                                      initializer=tf.truncated_normal_initializer(stddev = 0.01), \n",
    "                                      dtype = tf.float32)\n",
    "\n",
    "        gen_bias1 = tf.get_variable(\"gen_bias1\", \n",
    "                                    [noise_dim/2], \n",
    "                                    initializer = tf.truncated_normal_initializer(stddev = 0.01))\n",
    "        gen_network1 = tf.nn.conv2d(input = gen_network0, \n",
    "                                    filter = gen_weight1, \n",
    "                                    strides = [1, 2, 2, 1], \n",
    "                                    padding = \"SAME\")\n",
    "        gen_network1 = gen_network1 + gen_bias1\n",
    "        gen_network1 = tf.contrib.layers.batch_norm(gen_network1, \n",
    "                                                    epsilon = 1e-5, \n",
    "                                                   scope = \"bn1\")\n",
    "        gen_network1 = tf.nn.relu(gen_network1)\n",
    "        gen_network1 = tf.image.resize_images(gen_network1, [56, 56])\n",
    "\n",
    "        ## deconvolutional neural network 2\n",
    "        gen_weight2 = tf.get_variable(\"gen_weight2\", \n",
    "                                      [3, 3, noise_dim/2, noise_dim/4], \n",
    "                                      initializer = tf.truncated_normal_initializer(stddev=0.01), \n",
    "                                      dtype = tf.float32)\n",
    "        gen_bias2 = tf.get_variable(\"gen_bias2\", \n",
    "                                    [noise_dim/4], \n",
    "                                    initializer = tf.truncated_normal_initializer(stddev=0.01))\n",
    "\n",
    "        gen_network2 = tf.nn.conv2d(input = gen_network1, \n",
    "                                    filter = gen_weight2, \n",
    "                                    padding = \"SAME\", \n",
    "                                    strides = [1, 2, 2, 1]) + gen_bias2\n",
    "        gen_network2 = tf.contrib.layers.batch_norm(gen_network2, \n",
    "                                                    epsilon = 1e-5, \n",
    "                                                    scope = \"bn2\")\n",
    "        gen_network2 = tf.nn.relu(gen_network2)\n",
    "        gen_network2 = tf.image.resize_images(gen_network2, [56, 56])\n",
    "\n",
    "        ## Producing one output dimensional channel\n",
    "        gen_weight3 = tf.get_variable(\"gen_weight3\", \n",
    "                                      [1, 1, noise_dim/4, 1], \n",
    "                                      initializer = tf.truncated_normal_initializer(stddev = 0.01), \n",
    "                                      dtype = tf.float32)\n",
    "        gen_bias3 = tf.get_variable(\"gen_bias3\", \n",
    "                                    [1], \n",
    "                                    initializer = tf.truncated_normal_initializer(stddev=0.01))\n",
    "\n",
    "        gen_network3 = tf.nn.conv2d(input = gen_network2, \n",
    "                                    filter = gen_weight3, \n",
    "                                    strides = [1, 2, 2, 1], \n",
    "                                    padding = \"SAME\") + gen_bias3\n",
    "        gen_network3 = tf.sigmoid(gen_network3)\n",
    "\n",
    "        return gen_network3"
   ]
  },
  {
   "cell_type": "code",
   "execution_count": 8,
   "metadata": {
    "collapsed": true,
    "scrolled": false
   },
   "outputs": [],
   "source": [
    "tf_sess = tf.Session()\n",
    "\n",
    "batches = 50\n",
    "noise_dim = 100\n",
    "\n",
    "X_placeholder = tf.placeholder(tf.float32, shape = [None, 28, 28, 1], name = \"X_placeholder\")\n",
    "\n",
    "gen_func = generator(batches, noise_dim)\n",
    "disc_func = discriminator(X_placeholder)\n",
    "disc_gen_func = discriminator(gen_func)\n",
    "\n",
    "cross_entropy_loss = tf.nn.sigmoid_cross_entropy_with_logits(logits = disc_gen_func, \n",
    "                                                             labels = tf.ones_like(disc_gen_func))\n",
    "\n",
    "gen_total_loss = tf.reduce_mean(cross_entropy_loss)\n",
    "\n",
    "disc_X_loss = tf.reduce_mean(tf.nn.sigmoid_cross_entropy_with_logits(logits=disc_func, \n",
    "                                                                     labels=tf.fill([batches, 1], 0.9)))\n",
    "disc_gen_loss = tf.reduce_mean(tf.nn.sigmoid_cross_entropy_with_logits(logits=disc_gen_func, \n",
    "                                                                       labels=tf.zeros_like(disc_gen_func)))\n",
    "disc_total_loss = disc_X_loss + disc_gen_loss\n",
    "\n",
    "train_variables = tf.trainable_variables()\n",
    "\n",
    "disc_variables = [var for var in train_variables if \"disc_\" in var.name]\n",
    "gen_variables = [var for var in train_variables if \"gen_\" in var.name]\n",
    "\n",
    "with tf.variable_scope(tf.get_variable_scope(), reuse=tf.AUTO_REUSE):\n",
    "    \n",
    "    disc_train_X = tf.train.AdamOptimizer(0.001).minimize(disc_X_loss, var_list = disc_variables)\n",
    "    disc_train_fool_disc_gen = tf.train.AdamOptimizer(0.001).minimize(disc_gen_loss, var_list = disc_variables)\n",
    "    gen_train = tf.train.AdamOptimizer(0.001).minimize(gen_total_loss, var_list=gen_variables)\n",
    "    \n",
    "disc_count_real = tf.placeholder(tf.float32)\n",
    "disc_count_fake = tf.placeholder(tf.float32)\n",
    "gen_count = tf.placeholder(tf.float32)\n",
    "disc_after_train_fool = tf.reduce_mean(discriminator(generator(batches, noise_dim)))\n",
    "disc_after_train_real = tf.reduce_mean(discriminator(X_placeholder))\n",
    "images_tf = generator(batches, noise_dim)\n",
    "\n",
    "tf.summary.scalar(\"Generator_loss\", gen_total_loss)\n",
    "tf.summary.scalar(\"Discriminator_fake_loss\", disc_gen_loss)\n",
    "tf.summary.scalar(\"Discriminator_real_loss\", disc_X_loss)\n",
    "tf.summary.scalar(\"discriminator_count_real\", disc_count_real)\n",
    "tf.summary.scalar(\"discriminator_count_fake\", disc_count_fake)\n",
    "tf.summary.scalar(\"generator_count\", gen_count)\n",
    "tf.summary.scalar(\"discriminator_values_of_generated\", disc_after_train_fool)\n",
    "tf.summary.scalar(\"discriminator_values_of_real\", disc_after_train_real)\n",
    "tf.summary.image(\"generated_fake_images\", images_tf)\n",
    "\n",
    "merged = tf.summary.merge_all()\n",
    "logdir = \"tensorboard/gan/\"\n",
    "fileWriter = tf.summary.FileWriter(logdir, graph = tf_sess.graph)"
   ]
  },
  {
   "cell_type": "code",
   "execution_count": 16,
   "metadata": {},
   "outputs": [
    {
     "name": "stdout",
     "output_type": "stream",
     "text": [
      "tensorboard/gan/\n",
      "\n",
      "\n",
      "Tensor(\"add_37:0\", shape=(), dtype=string)\n",
      "Tensor(\"Mean_1:0\", shape=(), dtype=float32)\n",
      "\n",
      "\n",
      "Tensor(\"Mean_2:0\", shape=(), dtype=float32)\n",
      "\n",
      "\n",
      "Tensor(\"add_14:0\", shape=(), dtype=float32)\n",
      "\n",
      "\n",
      "[<tf.Variable 'gen_weight0:0' shape=(100, 3136) dtype=float32_ref>, <tf.Variable 'gen_bias0:0' shape=(3136,) dtype=float32_ref>, <tf.Variable 'bn0/beta:0' shape=(1,) dtype=float32_ref>, <tf.Variable 'gen_weight1:0' shape=(3, 3, 1, 50) dtype=float32_ref>, <tf.Variable 'gen_bias1:0' shape=(50,) dtype=float32_ref>, <tf.Variable 'bn1/beta:0' shape=(50,) dtype=float32_ref>, <tf.Variable 'gen_weight2:0' shape=(3, 3, 50, 25) dtype=float32_ref>, <tf.Variable 'gen_bias2:0' shape=(25,) dtype=float32_ref>, <tf.Variable 'bn2/beta:0' shape=(25,) dtype=float32_ref>, <tf.Variable 'gen_weight3:0' shape=(1, 1, 25, 1) dtype=float32_ref>, <tf.Variable 'gen_bias3:0' shape=(1,) dtype=float32_ref>, <tf.Variable 'disc_weight0:0' shape=(5, 5, 1, 32) dtype=float32_ref>, <tf.Variable 'disc_bias0:0' shape=(32,) dtype=float32_ref>, <tf.Variable 'disc_weight1:0' shape=(5, 5, 32, 64) dtype=float32_ref>, <tf.Variable 'disc_bias1:0' shape=(64,) dtype=float32_ref>, <tf.Variable 'disc_weight3:0' shape=(3136, 1024) dtype=float32_ref>, <tf.Variable 'disc_bias3:0' shape=(1024,) dtype=float32_ref>, <tf.Variable 'disc_weight4:0' shape=(1024, 128) dtype=float32_ref>, <tf.Variable 'disc_bias4:0' shape=(128,) dtype=float32_ref>, <tf.Variable 'disc_weight5:0' shape=(128, 1) dtype=float32_ref>, <tf.Variable 'disc_bias5:0' shape=(1,) dtype=float32_ref>]\n",
      "\n",
      "\n",
      "Tensor(\"Sigmoid:0\", shape=(50, 28, 28, 1), dtype=float32)\n",
      "\n",
      "\n",
      "Tensor(\"add_13:0\", shape=(50, 1), dtype=float32)\n",
      "\n",
      "\n",
      "[<tf.Variable 'disc_weight0:0' shape=(5, 5, 1, 32) dtype=float32_ref>, <tf.Variable 'disc_bias0:0' shape=(32,) dtype=float32_ref>, <tf.Variable 'disc_weight1:0' shape=(5, 5, 32, 64) dtype=float32_ref>, <tf.Variable 'disc_bias1:0' shape=(64,) dtype=float32_ref>, <tf.Variable 'disc_weight3:0' shape=(3136, 1024) dtype=float32_ref>, <tf.Variable 'disc_bias3:0' shape=(1024,) dtype=float32_ref>, <tf.Variable 'disc_weight4:0' shape=(1024, 128) dtype=float32_ref>, <tf.Variable 'disc_bias4:0' shape=(128,) dtype=float32_ref>, <tf.Variable 'disc_weight5:0' shape=(128, 1) dtype=float32_ref>, <tf.Variable 'disc_bias5:0' shape=(1,) dtype=float32_ref>]\n",
      "\n",
      "\n",
      "[<tf.Variable 'gen_weight0:0' shape=(100, 3136) dtype=float32_ref>, <tf.Variable 'gen_bias0:0' shape=(3136,) dtype=float32_ref>, <tf.Variable 'gen_weight1:0' shape=(3, 3, 1, 50) dtype=float32_ref>, <tf.Variable 'gen_bias1:0' shape=(50,) dtype=float32_ref>, <tf.Variable 'gen_weight2:0' shape=(3, 3, 50, 25) dtype=float32_ref>, <tf.Variable 'gen_bias2:0' shape=(25,) dtype=float32_ref>, <tf.Variable 'gen_weight3:0' shape=(1, 1, 25, 1) dtype=float32_ref>, <tf.Variable 'gen_bias3:0' shape=(1,) dtype=float32_ref>]\n",
      "\n",
      "\n",
      "Tensor(\"Mean_3:0\", shape=(), dtype=float32)\n",
      "\n",
      "\n",
      "Tensor(\"Mean_4:0\", shape=(), dtype=float32)\n",
      "\n",
      "\n"
     ]
    }
   ],
   "source": [
    "print(logdir + \"\\n\\n\")\n",
    "print(merged + \"\\n\\n\")\n",
    "print(str(disc_X_loss) + \"\\n\\n\")\n",
    "print(str(disc_gen_loss) + \"\\n\\n\")\n",
    "print(str(disc_total_loss) + \"\\n\\n\")\n",
    "print(str(train_variables) + \"\\n\\n\")\n",
    "print(str(gen_func) + \"\\n\\n\")\n",
    "print(str(disc_gen_func) + \"\\n\\n\")\n",
    "print(str(disc_variables) + \"\\n\\n\")\n",
    "print(str(gen_variables) + \"\\n\\n\")\n",
    "print(str(disc_after_train_fool) + \"\\n\\n\")\n",
    "print(str(disc_after_train_real) + \"\\n\\n\")"
   ]
  },
  {
   "cell_type": "code",
   "execution_count": null,
   "metadata": {
    "scrolled": false
   },
   "outputs": [
    {
     "name": "stdout",
     "output_type": "stream",
     "text": [
      "TRAINING STEP:  0\n",
      "Discriminator classified image:  [0.00046051]\n"
     ]
    },
    {
     "data": {
      "image/png": "[encoded data removed]",
      "text/plain": [
       "<matplotlib.figure.Figure at 0x7fd70a9abb38>"
      ]
     },
     "metadata": {},
     "output_type": "display_data"
    },
    {
     "name": "stdout",
     "output_type": "stream",
     "text": [
      "Discriminator classified image:  [0.00046085]\n"
     ]
    },
    {
     "data": {
      "image/png": "[encoded data removed]",
      "text/plain": [
       "<matplotlib.figure.Figure at 0x7fd70a97d828>"
      ]
     },
     "metadata": {},
     "output_type": "display_data"
    },
    {
     "name": "stdout",
     "output_type": "stream",
     "text": [
      "Discriminator classified image:  [0.00046013]\n"
     ]
    },
    {
     "data": {
      "image/png": "[encoded data removed]",
      "text/plain": [
       "<matplotlib.figure.Figure at 0x7fd70a0c28d0>"
      ]
     },
     "metadata": {},
     "output_type": "display_data"
    },
    {
     "name": "stdout",
     "output_type": "stream",
     "text": [
      "Discriminator classified image:  [0.00046133]\n"
     ]
    },
    {
     "data": {
      "image/png": "[encoded data removed]",
      "text/plain": [
       "<matplotlib.figure.Figure at 0x7fd70a0254e0>"
      ]
     },
     "metadata": {},
     "output_type": "display_data"
    },
    {
     "name": "stdout",
     "output_type": "stream",
     "text": [
      "Discriminator classified image:  [0.00046046]\n"
     ]
    },
    {
     "data": {
      "image/png": "[encoded data removed]",
      "text/plain": [
       "<matplotlib.figure.Figure at 0x7fd709fffe48>"
      ]
     },
     "metadata": {},
     "output_type": "display_data"
    },
    {
     "name": "stdout",
     "output_type": "stream",
     "text": [
      "saved at models/pretrained_gan.ckpt-0\n",
      "saved at models/pretrained_gan.ckpt-5000\n",
      "TRAINING STEP:  10000\n",
      "Discriminator classified image:  [34.979652]\n"
     ]
    },
    {
     "data": {
      "image/png": "[encoded data removed]",
      "text/plain": [
       "<matplotlib.figure.Figure at 0x7fd709c97860>"
      ]
     },
     "metadata": {},
     "output_type": "display_data"
    },
    {
     "name": "stdout",
     "output_type": "stream",
     "text": [
      "Discriminator classified image:  [32.489166]\n"
     ]
    },
    {
     "data": {
      "image/png": "[encoded data removed]",
      "text/plain": [
       "<matplotlib.figure.Figure at 0x7fd709f17e10>"
      ]
     },
     "metadata": {},
     "output_type": "display_data"
    },
    {
     "name": "stdout",
     "output_type": "stream",
     "text": [
      "Discriminator classified image:  [38.69118]\n"
     ]
    },
    {
     "data": {
      "image/png": "[encoded data removed]",
      "text/plain": [
       "<matplotlib.figure.Figure at 0x7fd709eefd30>"
      ]
     },
     "metadata": {},
     "output_type": "display_data"
    },
    {
     "name": "stdout",
     "output_type": "stream",
     "text": [
      "Discriminator classified image:  [-5.2069206]\n"
     ]
    },
    {
     "data": {
      "image/png": "[encoded data removed]",
      "text/plain": [
       "<matplotlib.figure.Figure at 0x7fd709e4cf98>"
      ]
     },
     "metadata": {},
     "output_type": "display_data"
    },
    {
     "name": "stdout",
     "output_type": "stream",
     "text": [
      "Discriminator classified image:  [4.5655937]\n"
     ]
    },
    {
     "data": {
      "image/png": "[encoded data removed]",
      "text/plain": [
       "<matplotlib.figure.Figure at 0x7fd709e1fcc0>"
      ]
     },
     "metadata": {},
     "output_type": "display_data"
    },
    {
     "name": "stdout",
     "output_type": "stream",
     "text": [
      "saved at models/pretrained_gan.ckpt-10000\n",
      "saved at models/pretrained_gan.ckpt-15000\n"
     ]
    }
   ],
   "source": [
    "saver = tf.train.Saver()\n",
    "tf_sess.run(tf.global_variables_initializer())\n",
    "\n",
    "genLoss = 0.0\n",
    "discLossReal, discLossFake = 1.0, 1.0\n",
    "discFakeCount, discRealCount, genCount = 0.0, 0.0, 0.0\n",
    "\n",
    "for i in range(0, 50000):\n",
    "    ori_batch = mnist_data.train.next_batch(batches)[0].reshape([batches, 28, 28, 1])\n",
    "    if discLossFake > 0.6:\n",
    "        _, discLossReal, discLossFake, genLoss = tf_sess.run([disc_train_fool_disc_gen, \n",
    "                                                              disc_X_loss, \n",
    "                                                              disc_gen_loss, \n",
    "                                                              gen_total_loss], \n",
    "                                                              {X_placeholder: ori_batch})\n",
    "        discFakeCount += 1\n",
    "        \n",
    "    if genLoss > 0.5:\n",
    "        _, discLossReal, discLossFake, genLoss = tf_sess.run([gen_train, \n",
    "                                                              disc_X_loss, \n",
    "                                                              disc_gen_loss, \n",
    "                                                              gen_total_loss], \n",
    "                                                              {X_placeholder: ori_batch})\n",
    "        genCount += 1\n",
    "        \n",
    "    if discLossReal > 0.45:\n",
    "        _, discLossReal, discLossFake, genLoss = tf_sess.run([disc_train_X, \n",
    "                                                              disc_X_loss, \n",
    "                                                              disc_gen_loss, \n",
    "                                                              gen_total_loss], \n",
    "                                                              {X_placeholder: ori_batch})\n",
    "        discRealCount += 1\n",
    "        \n",
    "    if i%10 == 0:\n",
    "        ori_batch = mnist_data.validation.next_batch(batches)[0].reshape([batches, 28, 28, 1])\n",
    "        summary_validations = tf_sess.run(merged, feed_dict = {X_placeholder: ori_batch, \n",
    "                                       disc_count_real: discRealCount, \n",
    "                                       disc_count_fake: discFakeCount, \n",
    "                                       gen_count: genCount})\n",
    "        fileWriter.add_summary(summary_validations, global_step=i)\n",
    "        discRealCount, discFakeCount, genCount = 0.0, 0.0, 0.0\n",
    "        \n",
    "    if i%10000 == 0:\n",
    "        generated_images = tf_sess.run(generator(5, noise_dim))\n",
    "        disc_images = tf_sess.run(discriminator(X_placeholder), {X_placeholder: generated_images})\n",
    "        print(\"TRAINING STEP: \", i)\n",
    "        for j in range(0, 5):\n",
    "            print(\"Discriminator classified image: \", disc_images[j])\n",
    "            im = generated_images[j, :, :, 0]\n",
    "            plt.imshow(im.reshape([28, 28]), cmap='Greys')\n",
    "            plt.show()\n",
    "    \n",
    "    if i%5000 == 0:\n",
    "        savedAt = saver.save(tf_sess, \"models/pretrained_gan.ckpt\", global_step = i)\n",
    "        print(\"saved at {0}\".format(savedAt))"
   ]
  },
  {
   "cell_type": "code",
   "execution_count": 40,
   "metadata": {},
   "outputs": [
    {
     "data": {
      "text/plain": [
       "dtype('float32')"
      ]
     },
     "execution_count": 40,
     "metadata": {},
     "output_type": "execute_result"
    }
   ],
   "source": [
    "ori_batch.dtype"
   ]
  }
 ],
 "metadata": {
  "kernelspec": {
   "display_name": "Python 3",
   "language": "python",
   "name": "python3"
  },
  "language_info": {
   "codemirror_mode": {
    "name": "ipython",
    "version": 3
   },
   "file_extension": ".py",
   "mimetype": "text/x-python",
   "name": "python",
   "nbconvert_exporter": "python",
   "pygments_lexer": "ipython3",
   "version": "3.6.3"
  }
 },
 "nbformat": 4,
 "nbformat_minor": 2
}
